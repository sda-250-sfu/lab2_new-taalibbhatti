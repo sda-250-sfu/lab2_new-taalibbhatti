{
 "cells": [
  {
   "cell_type": "markdown",
   "metadata": {},
   "source": [
    "# Lab 2 - Data Types, String/File Processing, Encodings\n",
    "\n",
    "In this second lab we will be looking at some of the more important skills needed to do text analysis. In order to start doing text analysis you first need to have text to analyze. This text will be stored in various data types. In the last lab you already saw two data types: int(for storing whole numbers) and strings. In this lab we will look at other important data types needed to do text processing.\n",
    "\n",
    "Next we will look at string and file processing. We will learn how to read data to and from text files, how to store the data in data types such as strings and lists. And then we will do string processing on this data that is now stored in a string or list.\n",
    "\n",
    "Lastly one of the most important things is file encodings. Computers store data as 0s and 1s so in order to read a text file we need to convert those 0s and 1s to letters. This is done using an encoding scheme. The problem is that there are lots of encoding schemes and different ones are used all the time. Some of the more common ones are utf-8 and utf-16 as well as latin1. So whenever you open a text file you need to make sure you are using the correct encoding scheme.\n",
    "\n",
    "### Data Types\n",
    "\n",
    "Data types are one of the basic building blocks of your code. As mentioned earlier, data types are used to store information which we can then work with in various ways. In python the data type is automatically determined when you first assign a value to a variable. So when we assigned the number '18' to the variable 'age' in the last lab, the variable 'age' was turned into an integer data type.\n",
    "\n",
    "#### Storing Numbers\n",
    "\n",
    "For storing numbers there are two data types: the `int` data type for whole numbers and the `float` data type for decimal numbers. The `int` data type will store things like word counts and sentence counts and the `float` data type will store things like average word length.\n",
    "\n",
    "Work through the following code block:"
   ]
  },
  {
   "cell_type": "code",
   "execution_count": 1,
   "metadata": {},
   "outputs": [
    {
     "name": "stdout",
     "output_type": "stream",
     "text": [
      "<class 'int'>\n",
      "19.666666666666668\n"
     ]
    }
   ],
   "source": [
    "# The following three variables are of type int since they contain whole numbers\n",
    "age1 = 18\n",
    "age2 = 22\n",
    "age3 = 19\n",
    "\n",
    "# to find the data type you can use 'type()'\n",
    "print(type(age1))\n",
    "\n",
    "# complete the computation to find the average age:\n",
    "# hint: add the ages and divide by 3\n",
    "averageAge = ((age1 + age2 + age3)/3)\n",
    "\n",
    "# finally print the value of averageAge and its data type:\n",
    "print(averageAge)"
   ]
  },
  {
   "cell_type": "markdown",
   "metadata": {},
   "source": [
    "#### Storing Text\n",
    "\n",
    "We already encountered the `string` data type for saving text data. Another important data type is `list`. The `list` data type holds multiple items in a list format and each item can be accessed by its index. The index for the first item in the list starts at 0 and increments by one.\n",
    "\n",
    "While we will often use the list data type for storing words or text data it can be used for anything since it is just a way to store multiple objects in a list format.\n",
    "\n",
    "Work through the next code block:"
   ]
  },
  {
   "cell_type": "code",
   "execution_count": 3,
   "metadata": {},
   "outputs": [
    {
     "name": "stdout",
     "output_type": "stream",
     "text": [
      "['Daisy', 'picks', 'some', 'flowers', '.']\n",
      "Daisy\n"
     ]
    }
   ],
   "source": [
    "# to assign a list variable put all items in quotes, separated by commas, and enclosed in square brackets:\n",
    "sentence1 = [\"Daisy\", \"picks\", \"some\", \"flowers\", \".\"]\n",
    "\n",
    "# we can print the contents of this variable like any other variable by using print()\n",
    "print(sentence1)\n",
    "\n",
    "# we can also print each item individually by putting the index of the item we want in square brackets:\n",
    "print(sentence1[0])"
   ]
  },
  {
   "cell_type": "code",
   "execution_count": 4,
   "metadata": {},
   "outputs": [
    {
     "name": "stdout",
     "output_type": "stream",
     "text": [
      "Daisy picks flowers.\n"
     ]
    }
   ],
   "source": [
    "# now using string concatenation print the sentence \"Daisy picks flowers.\"\n",
    "# remember to add the spaces between the words\n",
    "print(sentence1[0] + \" \" + sentence1[1] + \" \" + sentence1[3] + sentence1[4])"
   ]
  },
  {
   "cell_type": "markdown",
   "metadata": {},
   "source": [
    "The last data type we will look at is the dictionary. A dictionary is very similar to a list but instead of accessing it using an index starting at 0 we assign each value a special index. This special index is called the key. \n",
    "\n",
    "There are various ways to create a dict data type. We will use this type: \n",
    "`dictName = {'key1':'value1', 'key2':'value2'}`\n",
    "To read about the other ways of creating a dict, and for a good overview of some of the functions we can use with the dict data type view this [dict tutorial](https://realpython.com/python-dicts/)\n",
    "\n",
    "One use may be for storing token counts of files. I will demonstrate this use in the following code block."
   ]
  },
  {
   "cell_type": "code",
   "execution_count": 5,
   "metadata": {},
   "outputs": [
    {
     "name": "stdout",
     "output_type": "stream",
     "text": [
      "13200\n"
     ]
    }
   ],
   "source": [
    "# Dictionary for storing token counts per file\n",
    "tokenCount = {'file1':13200, 'file2':12093, 'file':29093}\n",
    "\n",
    "# to call up the token count of a certain file pass the key as an argument to the dict\n",
    "print(tokenCount['file1'])"
   ]
  },
  {
   "cell_type": "markdown",
   "metadata": {},
   "source": [
    "### File Processing\n",
    "\n",
    "To understand file processing and encodings read the file manipulation tutorial which will give an overview of all of the techniques and functions you will be using: [file manipulation](https://realpython.com/read-write-files-python/)\n",
    "\n",
    "Opening a file using the `with open() as` will store the opened file in a data type that we can then use to read the file contents and store the contents to a variable. I will demonstrate how to open a file and save the contents to a string variable."
   ]
  },
  {
   "cell_type": "code",
   "execution_count": null,
   "metadata": {},
   "outputs": [],
   "source": [
    "# First, create a text file somewhere in your computer. Write/paste a couple of sentences and save the file\n",
    "# Set path to file. Change this to the directory in your computer where you have a file\n",
    "filePath = \"./dataset1/text1/\"\n",
    "\n",
    "# open the file as \"r\" or read only and store this opened file in f\n",
    "with open(filePath, \"r\") as f:\n",
    "    # read the data from f and store it in the string variable \"data\"\n",
    "    data = f.read()\n",
    "    \n",
    "# we can now print the data\n",
    "print(data)"
   ]
  },
  {
   "cell_type": "code",
   "execution_count": 3,
   "metadata": {},
   "outputs": [
    {
     "name": "stdout",
     "output_type": "stream",
     "text": [
      "This line will be saved to the file!\n",
      "\n"
     ]
    }
   ],
   "source": [
    "# First, create a text file somewhere in your computer. Write/paste a couple of sentences and save the file\n",
    "# Set path to file. Change this to the directory in your computer where you have a file\n",
    "filePath = \"/Users/taalibbhatti/Desktop/SDA 250/Lab2/untitled.txt\"\n",
    "\n",
    "# open the file as \"r\" or read only and store this opened file in f\n",
    "with open(filePath, \"r\") as f:\n",
    "    # read the data from f and store it in the string variable \"data\"\n",
    "    data = f.read()\n",
    "    \n",
    "# we can now print the data\n",
    "print(data)"
   ]
  },
  {
   "cell_type": "markdown",
   "metadata": {},
   "source": [
    "### Importing Libraries\n",
    "\n",
    "Python only comes with a very basic set of functions that we can use such as `print()` this means that if we want to do more interesting things, like get word count or sentence count, we need to import libraries that let us do so. A library is like a collection of functions that we can use in our programs. To import a library we just put the `import` command followed by the name of the library before we use functions from that library.\n",
    "\n",
    "Two libraries, or modules, that we will be using in this lab are `os` and `nltk`. The `os` module will be used for moving around the file system and listing files in a given directory. The `nltk` module contains many usefull functions for text processing and we will use it throughout the semester.\n",
    "\n",
    "First we will look at NLTK. Run the module below and enter \"d\" for download and then \"book\" to download the book dataset from nltk. When it is finished downloading enter \"q\" to exit the download screen. For a list of all the datasets included in nltk you can enter \"l\"."
   ]
  },
  {
   "cell_type": "code",
   "execution_count": 8,
   "metadata": {},
   "outputs": [
    {
     "name": "stdout",
     "output_type": "stream",
     "text": [
      "showing info https://raw.githubusercontent.com/nltk/nltk_data/gh-pages/index.xml\n"
     ]
    },
    {
     "data": {
      "text/plain": [
       "True"
      ]
     },
     "execution_count": 8,
     "metadata": {},
     "output_type": "execute_result"
    }
   ],
   "source": [
    "# first we import the NLTK module\n",
    "import nltk\n",
    "\n",
    "# after importing we will download the dataset\n",
    "nltk.download()"
   ]
  },
  {
   "cell_type": "markdown",
   "metadata": {},
   "source": [
    "Now that the data set has been downloaded we can import it using `from nltk.book import *`. After importing we will look at some functions introduced in chapter 1 of the [nltk textbook](http://www.nltk.org/book/ch01.html)."
   ]
  },
  {
   "cell_type": "code",
   "execution_count": 9,
   "metadata": {},
   "outputs": [
    {
     "name": "stdout",
     "output_type": "stream",
     "text": [
      "*** Introductory Examples for the NLTK Book ***\n",
      "Loading text1, ..., text9 and sent1, ..., sent9\n",
      "Type the name of the text or sentence to view it.\n",
      "Type: 'texts()' or 'sents()' to list the materials.\n",
      "text1: Moby Dick by Herman Melville 1851\n",
      "text2: Sense and Sensibility by Jane Austen 1811\n",
      "text3: The Book of Genesis\n",
      "text4: Inaugural Address Corpus\n",
      "text5: Chat Corpus\n",
      "text6: Monty Python and the Holy Grail\n",
      "text7: Wall Street Journal\n",
      "text8: Personals Corpus\n",
      "text9: The Man Who Was Thursday by G . K . Chesterton 1908\n"
     ]
    }
   ],
   "source": [
    "# import the data set\n",
    "from nltk.book import *"
   ]
  },
  {
   "cell_type": "code",
   "execution_count": 11,
   "metadata": {},
   "outputs": [
    {
     "name": "stdout",
     "output_type": "stream",
     "text": [
      "<Text: Moby Dick by Herman Melville 1851>\n",
      "<Text: Inaugural Address Corpus>\n",
      "<Text: Chat Corpus>\n"
     ]
    }
   ],
   "source": [
    "# we can check what each text is by simply entering the text1-text9\n",
    "print(text1)\n",
    "print(text4)\n",
    "print(text5)"
   ]
  },
  {
   "cell_type": "code",
   "execution_count": 12,
   "metadata": {},
   "outputs": [
    {
     "name": "stdout",
     "output_type": "stream",
     "text": [
      "260819\n",
      "507\n",
      "0.19438767881174301\n"
     ]
    }
   ],
   "source": [
    "# one basic function is len() which returns the length of the text\n",
    "print(len(text1))\n",
    "\n",
    "# another is count() which will count the number of occurences of a word\n",
    "print(text1.count(\"ship\"))\n",
    "\n",
    "# we can do some basic calculations such as what percentage of the text is made up by a specific word\n",
    "percentage = 100 * text1.count(\"ship\")/len(text1)\n",
    "print(percentage)"
   ]
  },
  {
   "cell_type": "markdown",
   "metadata": {},
   "source": [
    "Like mentioned earlier, the `os` library is used for interacting with the filesystem. Some usefull functions are `getcwd()` which prints your current directory, `listdir()` which lists all files in your current directory and `rename()` which lets you rename a file in the directory."
   ]
  },
  {
   "cell_type": "code",
   "execution_count": 28,
   "metadata": {},
   "outputs": [
    {
     "name": "stdout",
     "output_type": "stream",
     "text": [
      "/Users/taalibbhatti/Desktop/SDA 250/Lab2\n",
      "['.DS_Store', 'dataset1', 'untitled.txt', 'Lab2.ipynb', '.ipynb_checkpoints']\n"
     ]
    }
   ],
   "source": [
    "# first lets import the os module\n",
    "import os\n",
    "\n",
    "# next we can print our current directory\n",
    "# notice how we need to specify the module first followed by the function\n",
    "print(os.getcwd())\n",
    "\n",
    "# next we list the contents of our current directory\n",
    "print(os.listdir())"
   ]
  },
  {
   "cell_type": "code",
   "execution_count": 14,
   "metadata": {},
   "outputs": [
    {
     "name": "stdout",
     "output_type": "stream",
     "text": [
      "['.DS_Store', 'dataset1', 'untitled.txt', 'Lab2.ipynb', '.ipynb_checkpoints']\n"
     ]
    }
   ],
   "source": [
    "print(os.listdir())"
   ]
  },
  {
   "cell_type": "markdown",
   "metadata": {},
   "source": [
    "When we printed the contents of our current folder you saw that there is a subfolder called 'dataset1'. In the next code block you will print the contents of that subfolder so that you know how many files you have for the last assignment in this lab.\n",
    "\n",
    "In order to print the contents of a subfolder you will need to provide the path to that folder as an argument to the `listdir()` function. However the path to our current folder can be quiet lengthy but there is a way to shorten this. In python when you deal with paths there are two \"shortcuts\". A single period `.` means \"starting from the current directory\". So if we want to list the contents of the subfolder \"dataset1\" we would simply provide `./dataset1/`. If we wanted to go up one directory from our current directory you would use `..` which means \"go up one directory\"."
   ]
  },
  {
   "cell_type": "code",
   "execution_count": 29,
   "metadata": {},
   "outputs": [
    {
     "name": "stdout",
     "output_type": "stream",
     "text": [
      "['.DS_Store', 'lab-1-taalibbhatti-main', 'Lab2', 'Lab2.ipynb', '.ipynb_checkpoints']\n"
     ]
    }
   ],
   "source": [
    "# This will list the contents of the directory above where we currently are\n",
    "print(os.listdir(\"../\"))\n",
    "\n"
   ]
  },
  {
   "cell_type": "markdown",
   "metadata": {},
   "source": [
    "Now, to put everything together, write a small script that gets the data from the dataset included with this lab. Since there are 3 files included in the dataset1 folder you will need to `open()` and `read()` 3 times. Then pick 3 words and find what percentage of the text they make up together. Your output should look something like this:\n",
    "```\n",
    "text1:\n",
    "word1 percentage = x%\n",
    "word2 percentage = y%\n",
    "word3 percentage = z%\n",
    "total percentage = xyz%\n",
    "text2:\n",
    "```\n",
    "\n",
    "Make sure you format the output so that it is easy to read."
   ]
  },
  {
   "cell_type": "code",
   "execution_count": 85,
   "metadata": {},
   "outputs": [
    {
     "name": "stdout",
     "output_type": "stream",
     "text": [
      "Adventures Of Huckleberry and Fin: \n",
      "word1(huck) percentage = 0.00437443847352287 %\n",
      "word2(old) percentage = 0.08933949344002477 %\n",
      "word3(woods) percentage = 0.011609086718195308 %\n",
      "Total percentage = 0.10532301863174295 %\n",
      "A Tale of Two Cities: \n",
      "word1(mob) percentage = 0.0007717875629006864 %\n",
      "word2(distant) percentage = 0.001414943865317925 %\n",
      "word3(love) percentage = 0.009904607057225475 %\n",
      "Total percentage = 0.012091338485444088 %\n",
      "Pride and Prejudice: \n",
      "word1(married) percentage = 0.007863449269794945 %\n",
      "word2(prejudice) percentage = 0.0010312720353829435 %\n",
      "word3(odd) percentage = 0.0010312720353829435 %\n",
      "Total percentage = 0.00992599334056083 %\n"
     ]
    }
   ],
   "source": [
    "##first text\n",
    "filePath = \"./dataset1/adventuresOfHuckleberryFinn.txt\"\n",
    "with open(filePath, \"r\") as f:\n",
    "    huckle = f.read()       \n",
    "\n",
    "\n",
    "huckleper1 = 100 * huckle.count(\"huck\")/len(huckle)\n",
    "huckleper2 = 100 * huckle.count(\"old\")/len(huckle)\n",
    "huckleper3 = 100 * huckle.count(\"woods\")/len(huckle)\n",
    "huckletotal = huckleper1 + huckleper2 + huckleper3\n",
    "\n",
    "\n",
    "##second text\n",
    "filePath = \"./dataset1/aTaleOfTwoCities.txt\"\n",
    "with open(filePath, \"r\") as f:\n",
    "    tale = f.read()       \n",
    "\n",
    "\n",
    "\n",
    "taleper1 = 100 * tale.count(\"mob\")/len(tale)\n",
    "taleper2 = 100 * tale.count(\"distant\")/len(tale)\n",
    "taleper3 = 100 * tale.count(\"love\")/len(tale)\n",
    "taletotal = taleper1 + taleper2 + taleper3\n",
    "\n",
    "\n",
    "##third text\n",
    "filePath = \"./dataset1/prideAndPrejudice.txt\"\n",
    "with open(filePath, \"r\") as f:\n",
    "    pride = f.read() \n",
    "\n",
    "\n",
    "\n",
    "prideper1 = 100 * pride.count(\"married\")/len(pride)\n",
    "prideper2 = 100 * pride.count(\"prejudice\")/len(pride)\n",
    "prideper3 = 100 * pride.count(\"odd\")/len(pride)\n",
    "pridetotal = prideper1 + prideper2 + prideper3\n",
    "\n",
    "\n",
    "print(\"Adventures Of Huckleberry and Fin: \")\n",
    "print(\"word1(huck) percentage =\",huckleper1,\"%\")\n",
    "print(\"word2(old) percentage =\",huckleper2,\"%\")\n",
    "print(\"word3(woods) percentage =\",huckleper3,\"%\")\n",
    "print(\"Total percentage =\",huckletotal,\"%\")\n",
    "\n",
    "print(\"A Tale of Two Cities: \")\n",
    "print(\"word1(mob) percentage =\",taleper1,\"%\")\n",
    "print(\"word2(distant) percentage =\",taleper2,\"%\")\n",
    "print(\"word3(love) percentage =\",taleper3,\"%\")\n",
    "print(\"Total percentage =\",taletotal,\"%\")\n",
    "\n",
    "print(\"Pride and Prejudice: \")\n",
    "print(\"word1(married) percentage =\",prideper1,\"%\")\n",
    "print(\"word2(prejudice) percentage =\",prideper2,\"%\")\n",
    "print(\"word3(odd) percentage =\",prideper3,\"%\")\n",
    "print(\"Total percentage =\",pridetotal,\"%\")\n",
    "\n"
   ]
  },
  {
   "cell_type": "markdown",
   "metadata": {},
   "source": [
    "#### Storing to a file\n",
    "\n",
    "We learned how to open and read from a file but often we want to store our data to a file as well so that we can use it in the future. Writing to a file is very similar to reading from a file. The following code block will demonstrate how to save to a .txt file."
   ]
  },
  {
   "cell_type": "code",
   "execution_count": 105,
   "metadata": {},
   "outputs": [
    {
     "ename": "UnsupportedOperation",
     "evalue": "not writable",
     "output_type": "error",
     "traceback": [
      "\u001b[0;31m---------------------------------------------------------------------------\u001b[0m",
      "\u001b[0;31mUnsupportedOperation\u001b[0m                      Traceback (most recent call last)",
      "\u001b[0;32m<ipython-input-105-447ee39349cc>\u001b[0m in \u001b[0;36m<module>\u001b[0;34m\u001b[0m\n\u001b[1;32m      3\u001b[0m \u001b[0;32mwith\u001b[0m \u001b[0mopen\u001b[0m\u001b[0;34m(\u001b[0m\u001b[0mfilePath\u001b[0m\u001b[0;34m)\u001b[0m \u001b[0;32mas\u001b[0m \u001b[0mf\u001b[0m\u001b[0;34m:\u001b[0m\u001b[0;34m\u001b[0m\u001b[0;34m\u001b[0m\u001b[0m\n\u001b[1;32m      4\u001b[0m     \u001b[0;31m# now instead of calling read() we call write() to save to a file.\u001b[0m\u001b[0;34m\u001b[0m\u001b[0;34m\u001b[0m\u001b[0;34m\u001b[0m\u001b[0m\n\u001b[0;32m----> 5\u001b[0;31m         \u001b[0mf\u001b[0m\u001b[0;34m.\u001b[0m\u001b[0mwrite\u001b[0m\u001b[0;34m(\u001b[0m\u001b[0;34m\"This line will be saved to the file.\\n\"\u001b[0m\u001b[0;34m)\u001b[0m\u001b[0;34m\u001b[0m\u001b[0;34m\u001b[0m\u001b[0m\n\u001b[0m",
      "\u001b[0;31mUnsupportedOperation\u001b[0m: not writable"
     ]
    }
   ],
   "source": [
    "# open a file like we did before\n",
    "with open saveFile.txt as out:\n",
    "    # now instead of calling read() we call write() to save to a file.\n",
    "    out.write(\"This line will be saved to the file.\\n\")"
   ]
  },
  {
   "cell_type": "code",
   "execution_count": 4,
   "metadata": {},
   "outputs": [],
   "source": [
    "filePath = \"/Users/taalibbhatti/Desktop/SDA 250/Lab2/untitled.txt\"\n",
    "\n",
    "with open(filePath, \"w\") as f:\n",
    "\n",
    "        f.write(\"This line will be saved to the file!\\n\")\n"
   ]
  },
  {
   "cell_type": "markdown",
   "metadata": {},
   "source": [
    "As you can see saving to a file is just as easy as reading from a file and will be usefull for storing results and other data that you obtain from your programs. Saving data will become increasingly more important throughout this course as we will be dealing with more and more data. To finish the lab we will look at one other important file type and how to read and write to it. This file type is the \"csv\" format. This format is used for data that is stored in a table format like an excel spreadsheet. We will first create and write to a csv file and then we will open and read the data that we wrote.\n",
    "\n",
    "First create a new subfolder in your file system. Then in the code block we will open the csv file just as we did with the .txt files. The only difference is in how we actually write to the file. To write to a csv file we will create a \"file writer\" that we will call to write to the file."
   ]
  },
  {
   "cell_type": "code",
   "execution_count": 1,
   "metadata": {},
   "outputs": [],
   "source": [
    "# finish the code to open the csv file inside the subdirectory that you created\n",
    "import csv\n",
    "file = \"/Users/taalibbhatti/Desktop/SDA 250/Lab2/csv folder\"\n",
    "with open(\"file\", 'w') as out:\n",
    "    # now we create our file writer object\n",
    "    # the delimiter is what is used to separate our data into columns\n",
    "    # Here we use a comma because it is a csv file, that is a file with comma-separated values\n",
    "    line_writer = csv.writer(out, delimiter=',')\n",
    "    \n",
    "    # now that we have a writer object we can use it to write our rows\n",
    "    # below I demonstrate how to use the writer to create our headings\n",
    "    line_writer.writerow(['fileName', 'word', 'wordPercentage'])\n",
    "    line_writer.writerow(['Adventures Of Huckleberry and Fin', 'Huck', '0.00437443847352287 %'])\n",
    "    line_writer.writerow(['Adventures Of Huckleberry and Fin', 'old', '0.08933949344002477 %'])\n",
    "    line_writer.writerow(['Adventures Of Huckleberry and Fin', 'woods', '0.011609086718195308 %'])\n",
    "    line_writer.writerow(['A Tale of Two Cities', 'mob', '0.0007717875629006864 %'])\n",
    "    line_writer.writerow(['A Tale of Two Cities', 'distant', '0.001414943865317925 %'])\n",
    "    line_writer.writerow(['A Tale of Two Cities', 'love', '0.009904607057225475 %'])\n",
    "    line_writer.writerow(['Pride and Prejudice', 'married', '0.007863449269794945 %'])\n",
    "    line_writer.writerow(['Pride and Prejudice', 'prejudice', '0.0010312720353829435 %'])\n",
    "    line_writer.writerow(['Pride and Prejudice', 'odd', '0.0010312720353829435 %'])\n",
    "    # finish the code to write the information from the word percentages to the csv file"
   ]
  },
  {
   "cell_type": "markdown",
   "metadata": {},
   "source": [
    "Now that we have saved our data to a csv file we want to retrieve it again so that we can do further analysis on it. Reading from a csv file is very similar to reading from a text file so just work throug the following code block to learn how to do so and finish the lab."
   ]
  },
  {
   "cell_type": "code",
   "execution_count": 2,
   "metadata": {},
   "outputs": [
    {
     "name": "stdout",
     "output_type": "stream",
     "text": [
      "['fileName', 'word', 'wordPercentage']\n",
      "['Adventures Of Huckleberry and Fin', 'Huck', '0.00437443847352287 %']\n",
      "['Adventures Of Huckleberry and Fin', 'old', '0.08933949344002477 %']\n",
      "['Adventures Of Huckleberry and Fin', 'woods', '0.011609086718195308 %']\n",
      "['A Tale of Two Cities', 'mob', '0.0007717875629006864 %']\n",
      "['A Tale of Two Cities', 'distant', '0.001414943865317925 %']\n",
      "['A Tale of Two Cities', 'love', '0.009904607057225475 %']\n",
      "['Pride and Prejudice', 'married', '0.007863449269794945 %']\n",
      "['Pride and Prejudice', 'prejudice', '0.0010312720353829435 %']\n",
      "['Pride and Prejudice', 'odd', '0.0010312720353829435 %']\n"
     ]
    }
   ],
   "source": [
    "# first open the file as a read only object\n",
    "with open('file', 'r') as f:\n",
    "    # here we create a reader object, similar to our writer object\n",
    "    csv_reader = csv.reader(f, delimiter=',')\n",
    "    \n",
    "    # we will now use something called a for loop to loop through each row of data\n",
    "    # we will look more at for loops in the next lab\n",
    "    for row in csv_reader:\n",
    "        # we print each row of data\n",
    "        print(row)"
   ]
  },
  {
   "cell_type": "code",
   "execution_count": null,
   "metadata": {},
   "outputs": [],
   "source": []
  },
  {
   "cell_type": "code",
   "execution_count": null,
   "metadata": {},
   "outputs": [],
   "source": []
  }
 ],
 "metadata": {
  "kernelspec": {
   "display_name": "Python 3",
   "language": "python",
   "name": "python3"
  },
  "language_info": {
   "codemirror_mode": {
    "name": "ipython",
    "version": 3
   },
   "file_extension": ".py",
   "mimetype": "text/x-python",
   "name": "python",
   "nbconvert_exporter": "python",
   "pygments_lexer": "ipython3",
   "version": "3.8.5"
  }
 },
 "nbformat": 4,
 "nbformat_minor": 4
}
